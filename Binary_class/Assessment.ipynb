{
 "cells": [
  {
   "cell_type": "markdown",
   "source": [
    "# <center> Предсказание пола клиента </center>\n",
    "\n",
    "### Необходимо выявить пол клиента, основываясь на его транзакционных исторических данных. В роли метрики качества выступает [ROC AUC](https://dyakonov.org/2017/07/28/auc-roc-%D0%BF%D0%BB%D0%BE%D1%89%D0%B0%D0%B4%D1%8C-%D0%BF%D0%BE%D0%B4-%D0%BA%D1%80%D0%B8%D0%B2%D0%BE%D0%B9-%D0%BE%D1%88%D0%B8%D0%B1%D0%BE%D0%BA/), который и нужно будет максимизировать."
   ],
   "metadata": {}
  },
  {
   "cell_type": "markdown",
   "source": [
    "## Описание файлов\n",
    "- transactions.csv - исторические транзакции банковских клиентов\n",
    "- gender.csv - информация по полу для части клиентов (null - для тестовых)\n",
    "- tr_mcc_codes.csv - mcc-коды транзакций\n",
    "- tr_types.csv - типы транзакций\n",
    "\n",
    "## Описание полей\n",
    "### transactions.csv\n",
    "- customer_id - идентификатор клиента\n",
    "- tr_datetime - день и время совершения транзакции (дни нумеруются с начала данных)\n",
    "- mcc_code - mcc-код транзакции\n",
    "- tr_type - тип транзакции\n",
    "- amount - сумма транзакции в условных единицах; со знаком \"+\" — начисление средств клиенту, \"-\" — списание средств\n",
    "- term_id - идентификатор терминала\n",
    "\n",
    "### gender.csv\n",
    "- customer_id - идентификатор клиента\n",
    "- gender - пол клиента (пустые значения - тестовые клиенты)\n",
    "\n",
    "### tr_mcc_codes.csv\n",
    "- mcc_code - mcc-код транзакции\n",
    "- mcc_description - описание mcc-кода транзакции\n",
    "\n",
    "### tr_types.csv\n",
    "- tr_type - тип транзакции\n",
    "- tr_description - описание типа транзакции"
   ],
   "metadata": {
    "execution": {
     "iopub.execute_input": "2021-08-23T13:11:26.066752Z",
     "iopub.status.busy": "2021-08-23T13:11:26.065958Z",
     "iopub.status.idle": "2021-08-23T13:11:26.073084Z",
     "shell.execute_reply": "2021-08-23T13:11:26.072336Z",
     "shell.execute_reply.started": "2021-08-23T13:11:26.066698Z"
    }
   }
  },
  {
   "cell_type": "markdown",
   "source": [
    "## Задачи:\n",
    "- Разработать модель бинарной классификации для определения пола клиента. Никаких ограничений к модели - может быть что угодно от KNN до трансформеров. Главное, чтобы ROC AUC на отложенном тесте получился выше 77.5%.\n",
    "- Интерпретировать результаты модели: важность входящих в нее переменных, демонстрация на нескольких примерах, почему получился соответствующий прогноз. Последнее позволит понять, какой пол к какому из таргетов (0/1) принадлежит. Опять же, полная свобода выбора подходов! Полезные ключевые слова: gain, permutation importance, SHAP. \n",
    "- Конвертировать результаты в отчет без кода (идеально - напрямую в [html](https://stackoverflow.com/questions/49907455/hide-code-when-exporting-jupyter-notebook-to-html))\n",
    "\n",
    "#### P.S. Не забываем про [PEP8](https://www.python.org/dev/peps/pep-0008/)!"
   ],
   "metadata": {
    "tags": []
   }
  },
  {
   "cell_type": "code",
   "execution_count": 22,
   "source": [
    "#adding requirements\n",
    "import warnings\n",
    "warnings.simplefilter(action='ignore', category=FutureWarning)\n",
    "\n",
    "import numpy as np\n",
    "import pandas as pd"
   ],
   "outputs": [],
   "metadata": {}
  },
  {
   "cell_type": "code",
   "execution_count": 23,
   "source": [
    "tr_mcc_codes = pd.read_csv(\"data/tr_mcc_codes.csv\", sep=\";\", index_col=\"mcc_code\")\n",
    "tr_types = pd.read_csv(\"data/tr_types.csv\", sep=\";\", index_col=\"tr_type\")\n",
    "\n",
    "transactions = pd.read_csv(\"data/transactions.csv\", index_col=\"customer_id\")\n",
    "gender = pd.read_csv(\"data/gender.csv\", index_col=\"customer_id\")"
   ],
   "outputs": [],
   "metadata": {
    "ExecuteTime": {
     "end_time": "2019-03-05T17:34:58.314241Z",
     "start_time": "2019-03-05T17:34:52.056205Z"
    },
    "execution": {
     "iopub.execute_input": "2021-08-23T13:40:21.407638Z",
     "iopub.status.busy": "2021-08-23T13:40:21.407401Z",
     "iopub.status.idle": "2021-08-23T13:40:30.132598Z",
     "shell.execute_reply": "2021-08-23T13:40:30.131875Z",
     "shell.execute_reply.started": "2021-08-23T13:40:21.407616Z"
    },
    "scrolled": true,
    "tags": []
   }
  },
  {
   "cell_type": "markdown",
   "source": [
    "# Data exploration"
   ],
   "metadata": {}
  },
  {
   "cell_type": "code",
   "execution_count": 32,
   "source": [
    "import matplotlib.pyplot as plt\n",
    "\n",
    "# Plot % missing values\n",
    "plt.figure(figsize=(10,5))\n",
    "(transactions.isnull().sum(axis = 0) / transactions.shape[0] * 100).plot.bar()\n",
    "plt.title('% Missing')\n",
    "plt.xlabel('Feature')\n",
    "plt.ylabel('%')\n",
    "plt.show()"
   ],
   "outputs": [
    {
     "output_type": "display_data",
     "data": {
      "image/png": "[encoded data removed]",
      "text/plain": [
       "<Figure size 720x360 with 1 Axes>"
      ]
     },
     "metadata": {}
    }
   ],
   "metadata": {}
  },
  {
   "cell_type": "code",
   "execution_count": 33,
   "source": [
    "#check the classes distribution\n",
    "import seaborn as sns; sns.set()\n",
    "import matplotlib.pyplot as plt \n",
    "\n",
    "x = gender['gender'].value_counts().values\n",
    "sns.barplot([0,1],x)\n",
    "plt.title('Target variable count');\n",
    "print(x)"
   ],
   "outputs": [
    {
     "output_type": "stream",
     "name": "stdout",
     "text": [
      "[4651 3749]\n"
     ]
    },
    {
     "output_type": "display_data",
     "data": {
      "image/png": "[encoded data removed]",
      "text/plain": [
       "<Figure size 842.4x595.44 with 1 Axes>"
      ]
     },
     "metadata": {}
    }
   ],
   "metadata": {}
  },
  {
   "cell_type": "markdown",
   "source": [
    "# Let’s start \n"
   ],
   "metadata": {}
  },
  {
   "cell_type": "code",
   "execution_count": 34,
   "source": [
    "#adding requirements\n",
    "def train_feature_engineering(Data, gender):\n",
    "\n",
    "    Data = pd.merge(Data, gender, left_on='customer_id', right_on='customer_id', how='inner')\n",
    "    #feature aggregating\n",
    "    agg_count_id = pd.Series(Data.groupby(Data.index)['amount'].sum() > 0, name = 'agg_sign_id', index = Data.index)\n",
    "    Data['agg_sign_id'] = agg_count_id\n",
    "\n",
    "    agg_count_id = pd.Series(Data.groupby(Data.index)['amount'].sum(), name = 'agg_sum_id', index = Data.index)\n",
    "    Data['agg_sum_id'] = agg_count_id\n",
    "\n",
    "    agg_count_id = pd.Series(Data.groupby(Data.index)['amount'].count(), name = 'agg_count_id', index = Data.index)\n",
    "    Data['agg_count_id'] = agg_count_id\n",
    "\n",
    "    agg_count_id = pd.Series(Data.groupby(Data.index)['amount'].mean(), name = 'agg_mean_id', index = Data.index)\n",
    "    Data['agg_mean_id'] = agg_count_id\n",
    "\n",
    "    agg_count_id = pd.Series(Data.groupby(Data.index)['amount'].max(), name = 'agg_max_id', index = Data.index)\n",
    "    Data['agg_max_id'] = agg_count_id\n",
    "\n",
    "    agg_count_id = pd.Series(Data.groupby(Data.index)['amount'].min(), name = 'agg_min_id', index = Data.index)\n",
    "    Data['agg_min_id'] = agg_count_id\n",
    "\n",
    "    agg_count_id = pd.Series(Data.groupby(Data.index)['mcc_code'].count(), name = 'agg_count_mcc', index = Data.index)\n",
    "    Data['agg_count_mcc'] = agg_count_id\n",
    "\n",
    "    keys_1 = dict(Data.groupby(Data['mcc_code'])['amount'].count())\n",
    "    agg_count_id = Data['mcc_code'].apply(lambda x: keys_1[x])\n",
    "    Data['agg_count_mcc_unique'] = agg_count_id\n",
    "\n",
    "    keys_2 = dict(Data.groupby(Data['mcc_code'])['amount'].sum())\n",
    "    agg_count_id = Data['mcc_code'].apply(lambda x: keys_2[x])\n",
    "    Data['agg_sum_mcc'] = agg_count_id\n",
    "    \n",
    "    keys_3 = dict(Data.groupby(Data['mcc_code'])['amount'].nunique())\n",
    "    agg_count_id = Data['mcc_code'].apply(lambda x: keys_3[x])\n",
    "    Data['agg_sum_mcc_unique_type'] = agg_count_id\n",
    "\n",
    "    mcc_amount_key = dict(Data.set_index(['mcc_code', 'gender']).groupby(level=[0,1])['amount'].mean())\n",
    "    agg_count_id = Data['mcc_code'].apply(lambda x: max(mcc_amount_key[(x, 1.0)] if (x, 1.0) in mcc_amount_key else 0,\n",
    "    mcc_amount_key[(x, 0.0)] if (x, 0.0) in mcc_amount_key else 0))\n",
    "    Data['mcc_amount_key'] = agg_count_id\n",
    "\n",
    "    agg_count_id = pd.Series(Data.groupby(Data.index)['tr_datetime'].nunique(), name = 'days_unique', index = Data.index)\n",
    "    Data['days_unique'] = agg_count_id\n",
    "\n",
    "    agg_count_id = pd.Series(Data.groupby(Data.index)['tr_datetime'].count(), name = 'days_all', index = Data.index)\n",
    "    Data['days_all'] = agg_count_id\n",
    " \n",
    "    keys_mcc = dict(Data.groupby(Data['mcc_code']).apply(lambda x: x['gender'] == 1.0).groupby(level=['mcc_code']).mean())\n",
    "    agg_count_id = Data['mcc_code'].apply(lambda x: keys_mcc[x])\n",
    "    Data['mcc_gender'] = agg_count_id\n",
    "\n",
    "    keys_type = dict(Data.groupby(Data['tr_type']).apply(lambda x: x['gender'] == 1.0).groupby(level=['tr_type']).mean())\n",
    "    agg_count_id = Data['tr_type'].apply(lambda x: keys_type[x])\n",
    "    Data['tr_type_gender'] = agg_count_id\n",
    "\n",
    "    return Data, keys_mcc, keys_type, mcc_amount_key, keys_1, keys_2, keys_3 #, my_scaler\n",
    "\n",
    "def test_feature_engineering(Data, keys_mcc, keys_type, mcc_amount_key, keys_1, keys_2, keys_3):\n",
    "\n",
    "    #feature aggregating\n",
    "    agg_count_id = pd.Series(Data.groupby(Data.index)['amount'].sum() > 0, name = 'agg_sign_id', index = Data.index)\n",
    "    Data['agg_sign_id'] = agg_count_id\n",
    "\n",
    "    agg_count_id = pd.Series(Data.groupby(Data.index)['amount'].sum(), name = 'agg_sum_id', index = Data.index)\n",
    "    Data['agg_sum_id'] = agg_count_id\n",
    "\n",
    "    agg_count_id = pd.Series(Data.groupby(Data.index)['amount'].count(), name = 'agg_count_id', index = Data.index)\n",
    "    Data['agg_count_id'] = agg_count_id\n",
    "\n",
    "    agg_count_id = pd.Series(Data.groupby(Data.index)['amount'].mean(), name = 'agg_mean_id', index = Data.index)\n",
    "    Data['agg_mean_id'] = agg_count_id\n",
    "\n",
    "    agg_count_id = pd.Series(Data.groupby(Data.index)['amount'].max(), name = 'agg_max_id', index = Data.index)\n",
    "    Data['agg_max_id'] = agg_count_id\n",
    "\n",
    "    agg_count_id = pd.Series(Data.groupby(Data.index)['amount'].min(), name = 'agg_min_id', index = Data.index)\n",
    "    Data['agg_min_id'] = agg_count_id\n",
    "\n",
    "    agg_count_id = pd.Series(Data.groupby(Data.index)['mcc_code'].count(), name = 'agg_count_mcc', index = Data.index)\n",
    "    Data['agg_count_mcc'] = agg_count_id\n",
    "\n",
    "    agg_count_id = Data['mcc_code'].apply(lambda x: keys_1[x])\n",
    "    Data['agg_count_mcc_unique'] = agg_count_id\n",
    "\n",
    "    agg_count_id = Data['mcc_code'].apply(lambda x: keys_2[x])\n",
    "    Data['agg_sum_mcc'] = agg_count_id\n",
    "    \n",
    "    agg_count_id = Data['mcc_code'].apply(lambda x: keys_3[x])\n",
    "    Data['agg_sum_mcc_unique_type'] = agg_count_id\n",
    "\n",
    "    agg_count_id = Data['mcc_code'].apply(lambda x: max(mcc_amount_key[(x, 1.0)] if (x, 1.0) in mcc_amount_key else 0,\n",
    "     mcc_amount_key[(x, 0.0)] if (x, 0.0) in mcc_amount_key else 0))\n",
    "    Data['mcc_amount_key'] = agg_count_id\n",
    "\n",
    "    agg_count_id = pd.Series(Data.groupby(Data.index)['tr_datetime'].nunique(), name = 'days_unique', index = Data.index)\n",
    "    Data['days_unique'] = agg_count_id\n",
    "\n",
    "    agg_count_id = pd.Series(Data.groupby(Data.index)['tr_datetime'].count(), name = 'days_all', index = Data.index)\n",
    "    Data['days_all'] = agg_count_id\n",
    " \n",
    "    agg_count_id = Data['mcc_code'].apply(lambda x: keys_mcc[x])\n",
    "    Data['mcc_gender'] = agg_count_id\n",
    "\n",
    "    agg_count_id = Data['tr_type'].apply(lambda x: keys_type[x] if x in keys_type else 0)\n",
    "    Data['tr_type_gender'] = agg_count_id\n",
    "    \n",
    "    return Data\n"
   ],
   "outputs": [],
   "metadata": {}
  },
  {
   "cell_type": "code",
   "execution_count": 36,
   "source": [
    "import numpy as np\n",
    "pd.options.mode.chained_assignment = None\n",
    "\n",
    "def preprocess_pipeline(drop = True, verbose = False):\n",
    "\n",
    "    SPLIT_RATIO = 0.99\n",
    "    \n",
    "    tr_mcc_codes = pd.read_csv(\"data/tr_mcc_codes.csv\", sep=\";\", index_col=\"mcc_code\")\n",
    "    tr_types = pd.read_csv(\"data/tr_types.csv\", sep=\";\", index_col=\"tr_type\")\n",
    "\n",
    "    transactions = pd.read_csv(\"data/transactions.csv\", index_col=\"customer_id\")\n",
    "    gender = pd.read_csv(\"data/gender.csv\", index_col=\"customer_id\")\n",
    "\n",
    "    transactions.drop(columns=['term_id'], inplace=True)\n",
    "    transactions['tr_datetime'] = transactions['tr_datetime'].apply(lambda x: int(x.split(' ')[0]))\n",
    "\n",
    "    ind = transactions.index.unique()[int(len(transactions.index.unique())*SPLIT_RATIO)]\n",
    "    train = transactions[transactions.index >= ind]\n",
    "    test = transactions[transactions.index < ind]\n",
    "\n",
    "    print('fraction of unique people in test', (len(test.index.unique())/(len(test.index.unique()) + len(train.index.unique())))*100)\n",
    "    print('fraction of test set', (len(test.index)/(len(test.index) + len(train.index)))*100)\n",
    "\n",
    "    train, keys_mcc, keys_type, mcc_amount_key, keys_1, keys_2, keys_3 = train_feature_engineering(train, gender)\n",
    "    test = test_feature_engineering(test, keys_mcc, keys_type, mcc_amount_key, keys_1, keys_2, keys_3)\n",
    "    test = pd.merge(test, gender, left_on='customer_id', right_on='customer_id', how='inner')\n",
    "    \n",
    "    train_nan = train[train['gender'].isna()]\n",
    "    test_nan = test[test['gender'].isna()]\n",
    "    data_nan = pd.concat([train_nan, test_nan], axis = 0)\n",
    "    data_nan.drop(columns=['gender'], inplace=True)\n",
    "    \n",
    "    train = train[train['gender'].notna()]\n",
    "    test = test[test['gender'].notna()]\n",
    "\n",
    "    return train, test, data_nan\n",
    "\n",
    "train, test, data_nan = preprocess_pipeline(verbose = True)\n",
    "print('train.shape, test.shape', train.shape, test.shape)\n"
   ],
   "outputs": [
    {
     "output_type": "stream",
     "name": "stdout",
     "text": [
      "fraction of unique people in test 1.54\n",
      "fraction of test set 1.610635526369963\n",
      "train.shape, test.shape (3663755, 20) (66959, 20)\n"
     ]
    }
   ],
   "metadata": {}
  },
  {
   "cell_type": "code",
   "execution_count": 37,
   "source": [
    "#check correlation\n",
    "import seaborn as sns; sns.set()\n",
    "corr = train.corr()\n",
    "print(corr)\n",
    "sns.set(rc={'figure.figsize':(11.7,8.27)})\n",
    "sns.heatmap(corr);"
   ],
   "outputs": [
    {
     "output_type": "stream",
     "name": "stdout",
     "text": [
      "                         tr_datetime  mcc_code   tr_type    amount    gender  \\\n",
      "tr_datetime                 1.000000 -0.008803  0.005195  0.003295  0.002750   \n",
      "mcc_code                   -0.008803  1.000000  0.315553  0.056945  0.013005   \n",
      "tr_type                     0.005195  0.315553  1.000000  0.176691 -0.092412   \n",
      "amount                      0.003295  0.056945  0.176691  1.000000 -0.014467   \n",
      "gender                      0.002750  0.013005 -0.092412 -0.014467  1.000000   \n",
      "agg_sign_id                 0.026920  0.054771  0.293417  0.032747 -0.045059   \n",
      "agg_sum_id                  0.004473  0.033575  0.107186  0.092808 -0.131394   \n",
      "agg_count_id               -0.026872  0.118222  0.463317  0.016090 -0.135105   \n",
      "agg_mean_id                 0.001972  0.008978  0.091835  0.132518 -0.109169   \n",
      "agg_max_id                 -0.000048 -0.015266  0.056237 -0.022571  0.087489   \n",
      "agg_min_id                  0.007374  0.006509 -0.064483  0.033330 -0.076514   \n",
      "agg_count_mcc              -0.026872  0.118222  0.463317  0.016090 -0.135105   \n",
      "agg_count_mcc_unique       -0.036840  0.036656  0.309760  0.015037 -0.041122   \n",
      "agg_sum_mcc                 0.016988  0.184076  0.421913  0.166747 -0.091612   \n",
      "agg_sum_mcc_unique_type     0.038988 -0.099115  0.061245  0.050668 -0.036904   \n",
      "mcc_amount_key              0.009351  0.296630  0.676232  0.174237 -0.109978   \n",
      "days_unique                -0.045093  0.049649  0.199793  0.018366  0.013825   \n",
      "days_all                   -0.026872  0.118222  0.463317  0.016090 -0.135105   \n",
      "mcc_gender                  0.000707  0.026946 -0.477583 -0.092607  0.200955   \n",
      "tr_type_gender             -0.010414  0.009794 -0.557766 -0.090314  0.159290   \n",
      "\n",
      "                         agg_sign_id  agg_sum_id  agg_count_id  agg_mean_id  \\\n",
      "tr_datetime                 0.026920    0.004473     -0.026872     0.001972   \n",
      "mcc_code                    0.054771    0.033575      0.118222     0.008978   \n",
      "tr_type                     0.293417    0.107186      0.463317     0.091835   \n",
      "amount                      0.032747    0.092808      0.016090     0.132518   \n",
      "gender                     -0.045059   -0.131394     -0.135105    -0.109169   \n",
      "agg_sign_id                 1.000000    0.248576      0.331879     0.247117   \n",
      "agg_sum_id                  0.248576    1.000000      0.139610     0.700345   \n",
      "agg_count_id                0.331879    0.139610      1.000000     0.121416   \n",
      "agg_mean_id                 0.247117    0.700345      0.121416     1.000000   \n",
      "agg_max_id                  0.115549   -0.212902      0.084571    -0.170326   \n",
      "agg_min_id                 -0.058115    0.376844     -0.141644     0.251516   \n",
      "agg_count_mcc               0.331879    0.139610      1.000000     0.121416   \n",
      "agg_count_mcc_unique        0.023622    0.029092      0.028609    -0.020037   \n",
      "agg_sum_mcc                 0.185915    0.120626      0.412711     0.106118   \n",
      "agg_sum_mcc_unique_type     0.043043    0.045770      0.129549     0.059329   \n",
      "mcc_amount_key              0.237348    0.136451      0.491920     0.106775   \n",
      "days_unique                 0.161267   -0.043577      0.511242     0.138595   \n",
      "days_all                    0.331879    0.139610      1.000000     0.121416   \n",
      "mcc_gender                 -0.165799   -0.095099     -0.338898    -0.067365   \n",
      "tr_type_gender             -0.186002   -0.087957     -0.423029    -0.079755   \n",
      "\n",
      "                         agg_max_id  agg_min_id  agg_count_mcc  \\\n",
      "tr_datetime               -0.000048    0.007374      -0.026872   \n",
      "mcc_code                  -0.015266    0.006509       0.118222   \n",
      "tr_type                    0.056237   -0.064483       0.463317   \n",
      "amount                    -0.022571    0.033330       0.016090   \n",
      "gender                     0.087489   -0.076514      -0.135105   \n",
      "agg_sign_id                0.115549   -0.058115       0.331879   \n",
      "agg_sum_id                -0.212902    0.376844       0.139610   \n",
      "agg_count_id               0.084571   -0.141644       1.000000   \n",
      "agg_mean_id               -0.170326    0.251516       0.121416   \n",
      "agg_max_id                 1.000000   -0.788518       0.084571   \n",
      "agg_min_id                -0.788518    1.000000      -0.141644   \n",
      "agg_count_mcc              0.084571   -0.141644       1.000000   \n",
      "agg_count_mcc_unique      -0.051036    0.049100       0.028609   \n",
      "agg_sum_mcc               -0.001336   -0.015205       0.412711   \n",
      "agg_sum_mcc_unique_type   -0.018892    0.009831       0.129549   \n",
      "mcc_amount_key            -0.004512   -0.015671       0.491920   \n",
      "days_unique                0.158711   -0.175513       0.511242   \n",
      "days_all                   0.084571   -0.141644       1.000000   \n",
      "mcc_gender                 0.002284    0.012024      -0.338898   \n",
      "tr_type_gender             0.018222    0.002021      -0.423029   \n",
      "\n",
      "                         agg_count_mcc_unique  agg_sum_mcc  \\\n",
      "tr_datetime                         -0.036840     0.016988   \n",
      "mcc_code                             0.036656     0.184076   \n",
      "tr_type                              0.309760     0.421913   \n",
      "amount                               0.015037     0.166747   \n",
      "gender                              -0.041122    -0.091612   \n",
      "agg_sign_id                          0.023622     0.185915   \n",
      "agg_sum_id                           0.029092     0.120626   \n",
      "agg_count_id                         0.028609     0.412711   \n",
      "agg_mean_id                         -0.020037     0.106118   \n",
      "agg_max_id                          -0.051036    -0.001336   \n",
      "agg_min_id                           0.049100    -0.015205   \n",
      "agg_count_mcc                        0.028609     0.412711   \n",
      "agg_count_mcc_unique                 1.000000    -0.242408   \n",
      "agg_sum_mcc                         -0.242408     1.000000   \n",
      "agg_sum_mcc_unique_type              0.071570     0.309163   \n",
      "mcc_amount_key                       0.095020     0.900493   \n",
      "days_unique                         -0.123015     0.247958   \n",
      "days_all                             0.028609     0.412711   \n",
      "mcc_gender                          -0.196235    -0.508548   \n",
      "tr_type_gender                      -0.159903    -0.597858   \n",
      "\n",
      "                         agg_sum_mcc_unique_type  mcc_amount_key  days_unique  \\\n",
      "tr_datetime                             0.038988        0.009351    -0.045093   \n",
      "mcc_code                               -0.099115        0.296630     0.049649   \n",
      "tr_type                                 0.061245        0.676232     0.199793   \n",
      "amount                                  0.050668        0.174237     0.018366   \n",
      "gender                                 -0.036904       -0.109978     0.013825   \n",
      "agg_sign_id                             0.043043        0.237348     0.161267   \n",
      "agg_sum_id                              0.045770        0.136451    -0.043577   \n",
      "agg_count_id                            0.129549        0.491920     0.511242   \n",
      "agg_mean_id                             0.059329        0.106775     0.138595   \n",
      "agg_max_id                             -0.018892       -0.004512     0.158711   \n",
      "agg_min_id                              0.009831       -0.015671    -0.175513   \n",
      "agg_count_mcc                           0.129549        0.491920     0.511242   \n",
      "agg_count_mcc_unique                    0.071570        0.095020    -0.123015   \n",
      "agg_sum_mcc                             0.309163        0.900493     0.247958   \n",
      "agg_sum_mcc_unique_type                 1.000000        0.278182     0.134494   \n",
      "mcc_amount_key                          0.278182        1.000000     0.243338   \n",
      "days_unique                             0.134494        0.243338     1.000000   \n",
      "days_all                                0.129549        0.491920     0.511242   \n",
      "mcc_gender                             -0.211165       -0.600345    -0.135924   \n",
      "tr_type_gender                         -0.131479       -0.693294    -0.203016   \n",
      "\n",
      "                         days_all  mcc_gender  tr_type_gender  \n",
      "tr_datetime             -0.026872    0.000707       -0.010414  \n",
      "mcc_code                 0.118222    0.026946        0.009794  \n",
      "tr_type                  0.463317   -0.477583       -0.557766  \n",
      "amount                   0.016090   -0.092607       -0.090314  \n",
      "gender                  -0.135105    0.200955        0.159290  \n",
      "agg_sign_id              0.331879   -0.165799       -0.186002  \n",
      "agg_sum_id               0.139610   -0.095099       -0.087957  \n",
      "agg_count_id             1.000000   -0.338898       -0.423029  \n",
      "agg_mean_id              0.121416   -0.067365       -0.079755  \n",
      "agg_max_id               0.084571    0.002284        0.018222  \n",
      "agg_min_id              -0.141644    0.012024        0.002021  \n",
      "agg_count_mcc            1.000000   -0.338898       -0.423029  \n",
      "agg_count_mcc_unique     0.028609   -0.196235       -0.159903  \n",
      "agg_sum_mcc              0.412711   -0.508548       -0.597858  \n",
      "agg_sum_mcc_unique_type  0.129549   -0.211165       -0.131479  \n",
      "mcc_amount_key           0.491920   -0.600345       -0.693294  \n",
      "days_unique              0.511242   -0.135924       -0.203016  \n",
      "days_all                 1.000000   -0.338898       -0.423029  \n",
      "mcc_gender              -0.338898    1.000000        0.579037  \n",
      "tr_type_gender          -0.423029    0.579037        1.000000  \n"
     ]
    },
    {
     "output_type": "display_data",
     "data": {
      "image/png": "[encoded data removed]",
      "text/plain": [
       "<Figure size 842.4x595.44 with 2 Axes>"
      ]
     },
     "metadata": {}
    }
   ],
   "metadata": {}
  },
  {
   "cell_type": "code",
   "execution_count": null,
   "source": [
    "#check kmeans klustering\n",
    "from sklearn.decomposition import PCA\n",
    "from sklearn.cluster import KMeans\n",
    "import numpy as np\n",
    "import matplotlib.pyplot as plt\n",
    "pca = PCA(2)\n",
    "df = pca.fit_transform(x_train)\n",
    " \n",
    "kmeans = KMeans(n_clusters= 2)\n",
    "label = kmeans.fit_predict(df)\n",
    "u_labels = np.unique(label)\n",
    "\n",
    "for i in u_labels:\n",
    "    plt.scatter(df[label == i , 0] , df[label == i , 1] , label = i)\n",
    "plt.legend()\n",
    "plt.show()"
   ],
   "outputs": [],
   "metadata": {}
  },
  {
   "cell_type": "code",
   "execution_count": 38,
   "source": [
    "y_train = train['gender']\n",
    "x_train = train.drop(columns = ['gender'])\n",
    "y_test = test['gender']\n",
    "x_test = test.drop(columns = ['gender'])\n",
    "\n",
    "scale =  False\n",
    "if scale:\n",
    "    from sklearn.preprocessing import StandardScaler\n",
    "    scaler = StandardScaler()\n",
    "    x_train = scaler.fit_transform(x_train)\n",
    "    x_test = scaler.transform(x_test)\n"
   ],
   "outputs": [],
   "metadata": {}
  },
  {
   "cell_type": "markdown",
   "source": [
    "# XGBClassifier"
   ],
   "metadata": {}
  },
  {
   "cell_type": "code",
   "execution_count": 39,
   "source": [
    "from xgboost import XGBClassifier\n",
    "from sklearn.metrics import roc_auc_score, accuracy_score\n",
    "\n",
    "print('>>>>>>>>>', 'XGBClassifier')\n",
    "\n",
    "model = XGBClassifier(base_score=0.5, booster='gbtree', colsample_bylevel=1,\n",
    "              colsample_bynode=1, colsample_bytree=1.0, gamma=1, gpu_id=-1,\n",
    "              importance_type='gain', interaction_constraints='',\n",
    "              learning_rate=0.02, max_delta_step=0, max_depth=6,\n",
    "              min_child_weight=5, monotone_constraints='()',\n",
    "              n_estimators=100, n_jobs=1, nthread=1, num_parallel_tree=1,\n",
    "              random_state=0, reg_alpha=0, reg_lambda=1, scale_pos_weight=1,\n",
    "              silent=True, subsample=0.8, tree_method='exact',\n",
    "              validate_parameters=1, verbosity=None)\n",
    "              \n",
    "model.fit(x_train, y_train)"
   ],
   "outputs": [
    {
     "output_type": "stream",
     "name": "stdout",
     "text": [
      ">>>>>>>>> XGBClassifier\n"
     ]
    },
    {
     "output_type": "stream",
     "name": "stderr",
     "text": [
      "/home/musaev_rv/anaconda3/lib/python3.8/site-packages/xgboost/sklearn.py:888: UserWarning: The use of label encoder in XGBClassifier is deprecated and will be removed in a future release. To remove this warning, do the following: 1) Pass option use_label_encoder=False when constructing XGBClassifier object; and 2) Encode your labels (y) as integers starting with 0, i.e. 0, 1, 2, ..., [num_class - 1].\n",
      "  warnings.warn(label_encoder_deprecation_msg, UserWarning)\n"
     ]
    },
    {
     "output_type": "stream",
     "name": "stdout",
     "text": [
      "[00:29:01] WARNING: /tmp/build/80754af9/xgboost-split_1619724447847/work/src/learner.cc:541: \n",
      "Parameters: { silent } might not be used.\n",
      "\n",
      "  This may not be accurate due to some parameters are only used in language bindings but\n",
      "  passed down to XGBoost core.  Or some parameters are not used but slip through this\n",
      "  verification. Please open an issue if you find above cases.\n",
      "\n",
      "\n",
      "[00:29:09] WARNING: /tmp/build/80754af9/xgboost-split_1619724447847/work/src/learner.cc:1061: Starting in XGBoost 1.3.0, the default evaluation metric used with the objective 'binary:logistic' was changed from 'error' to 'logloss'. Explicitly set eval_metric if you'd like to restore the old behavior.\n"
     ]
    }
   ],
   "metadata": {}
  },
  {
   "cell_type": "code",
   "execution_count": null,
   "source": [
    "#add_nans\n",
    "nans = False\n",
    "if nans:\n",
    "    y_pred_nan = pd.DataFrame(model.predict(data_nan), index = data_nan.index)\n",
    "    X_train = pd.concat([x_train, data_nan], axis = 0)\n",
    "    Y_train = pd.concat([y_train, y_pred_nan], axis = 0)\n",
    "    print(X_train.shape, x_train.shape)\n",
    "    model.fit(X_train, Y_train)\n",
    "\n",
    "y_pred = model.predict(x_test)\n",
    "accuracy = accuracy_score(y_test, y_pred)\n",
    "roc_auc_test = roc_auc_score(y_test, y_pred)\n",
    "y_pred = model.predict(x_train)\n",
    "roc_auc_train = roc_auc_score(y_train, y_pred)\n",
    "\n",
    "print('mean accuracy score on test: ' + str(accuracy))\n",
    "print('roc_auc_score on test: '+ str(roc_auc_test))\n",
    "print('roc_auc_score on train: '+ str(roc_auc_train))"
   ],
   "outputs": [],
   "metadata": {}
  },
  {
   "cell_type": "markdown",
   "source": [
    "# Grid search"
   ],
   "metadata": {}
  },
  {
   "cell_type": "code",
   "execution_count": null,
   "source": [
    "#define a number of folds and parameter combinations\n",
    "from datetime import datetime\n",
    "from sklearn.model_selection import RandomizedSearchCV, GridSearchCV\n",
    "from sklearn.metrics import roc_auc_score\n",
    "from sklearn.model_selection import StratifiedKFold\n",
    "from xgboost import XGBClassifier\n",
    "\n",
    "def timer(start_time=None):\n",
    "    if not start_time:\n",
    "        start_time = datetime.now()\n",
    "        return start_time\n",
    "    elif start_time:\n",
    "        thour, temp_sec = divmod((datetime.now() - start_time).total_seconds(), 3600)\n",
    "        tmin, tsec = divmod(temp_sec, 60)\n",
    "        print('\\n Time taken: %i hours %i minutes and %s seconds.' % (thour, tmin, round(tsec, 2)))\n",
    "\n",
    "params = {\n",
    "        'min_child_weight': [1, 5, 10],\n",
    "        'gamma': [0.5, 1, 1.5, 2, 5],\n",
    "        'subsample': [0.6, 0.8, 1.0],\n",
    "        'colsample_bytree': [0.6, 0.8, 1.0],\n",
    "        'max_depth': [5, 6, 7, 8, 9]\n",
    "        }\n",
    "\n",
    "xgb = XGBClassifier(learning_rate=0.02, n_estimators=100, objective='binary:logistic',\n",
    "                    silent=True, nthread=1)\n",
    "\n",
    "folds = 5\n",
    "param_comb = 4\n",
    "skf = StratifiedKFold(n_splits=folds, shuffle = True, random_state = 1001)\n",
    "random_search = RandomizedSearchCV(xgb, param_distributions=params, n_iter=param_comb, scoring='roc_auc', n_jobs=4,\n",
    "                                    cv=skf.split(x_train,y_train), verbose=3, random_state=1001)\n",
    "\n",
    "start_time = timer(None) \n",
    "random_search.fit(x_train, y_train)\n",
    "timer(start_time) \n",
    "\n",
    "print('\\n All results:')\n",
    "print(random_search.cv_results_)\n",
    "print('\\n Best estimator:')\n",
    "print(random_search.best_estimator_)\n",
    "print('\\n Best normalized gini score for %d-fold search with %d parameter combinations:' % (folds, param_comb))\n",
    "print(random_search.best_score_ * 2 - 1)\n",
    "print('\\n Best hyperparameters:')\n",
    "print(random_search.best_params_)\n",
    "results = pd.DataFrame(random_search.cv_results_)\n",
    "results.to_csv('xgb-random-grid-search-results-01.csv', index=False)"
   ],
   "outputs": [],
   "metadata": {}
  },
  {
   "cell_type": "markdown",
   "source": [
    "# SHAP/ feature importance\n"
   ],
   "metadata": {}
  },
  {
   "cell_type": "code",
   "execution_count": null,
   "source": [
    "import shap\n",
    "\n",
    "shap_test = shap.TreeExplainer(model).shap_values(x_train)\n",
    "shap.summary_plot(shap_test, x_train,\n",
    "                      max_display=25, auto_size_plot=True)"
   ],
   "outputs": [],
   "metadata": {}
  }
 ],
 "metadata": {
  "hide_input": false,
  "interpreter": {
   "hash": "313b9272090493552b1bd8008684f3bd61a31a8118b7b5d481068ea70621c332"
  },
  "kernelspec": {
   "name": "python3",
   "display_name": "Python 3.8.8 64-bit ('base': conda)"
  },
  "language_info": {
   "codemirror_mode": {
    "name": "ipython",
    "version": 3
   },
   "file_extension": ".py",
   "mimetype": "text/x-python",
   "name": "python",
   "nbconvert_exporter": "python",
   "pygments_lexer": "ipython3",
   "version": "3.8.8"
  },
  "varInspector": {
   "cols": {
    "lenName": 16,
    "lenType": 16,
    "lenVar": 40
   },
   "kernels_config": {
    "python": {
     "delete_cmd_postfix": "",
     "delete_cmd_prefix": "del ",
     "library": "var_list.py",
     "varRefreshCmd": "print(var_dic_list())"
    },
    "r": {
     "delete_cmd_postfix": ") ",
     "delete_cmd_prefix": "rm(",
     "library": "var_list.r",
     "varRefreshCmd": "cat(var_dic_list()) "
    }
   },
   "types_to_exclude": [
    "module",
    "function",
    "builtin_function_or_method",
    "instance",
    "_Feature"
   ],
   "window_display": false
  }
 },
 "nbformat": 4,
 "nbformat_minor": 4
}